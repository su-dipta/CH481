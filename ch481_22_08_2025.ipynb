{
 "cells": [
  {
   "cell_type": "markdown",
   "metadata": {},
   "source": [
    "## **Define a list of intergers and add 5 with each items of this list and stor them in a new list.**"
   ]
  },
  {
   "cell_type": "code",
   "execution_count": 29,
   "metadata": {},
   "outputs": [
    {
     "name": "stdout",
     "output_type": "stream",
     "text": [
      "[7, 9, 11, 13, 15]\n"
     ]
    }
   ],
   "source": [
    "my_list = [2,4,6,8,10]\n",
    "new_list = []\n",
    "\n",
    "for i in range(len(my_list)):  # i is the index, i = 0,1,2,3,4\n",
    "    new_list.append(my_list[i]+5)\n",
    "print(new_list)"
   ]
  },
  {
   "cell_type": "markdown",
   "metadata": {
    "id": "wqPvJ_110wFr"
   },
   "source": [
    "### **Problem**\n",
    "## Write a python program that takes a list of numbers and creats an new list containing the squares of each number using foor loop."
   ]
  },
  {
   "cell_type": "code",
   "execution_count": 30,
   "metadata": {
    "colab": {
     "base_uri": "https://localhost:8080/"
    },
    "id": "hLIiwLuY0x-T",
    "outputId": "6884e73d-5c95-40a2-ac4c-0c8dbcccf0cc"
   },
   "outputs": [
    {
     "name": "stdout",
     "output_type": "stream",
     "text": [
      "Original list: [2, 4, 6, 8]\n",
      "Squared list: [4, 16, 36, 64, 100]\n"
     ]
    }
   ],
   "source": [
    "my_numbers = [2,4,6,8,10]\n",
    "\n",
    "squares = []\n",
    "\n",
    "for num in my_numbers:  # i is the element itself, i=2,4,6,8,10\n",
    "    squares.append(num * num)\n",
    "\n",
    "print(\"Original list:\", numbers)\n",
    "print(\"Squared list:\", squares)"
   ]
  },
  {
   "cell_type": "code",
   "execution_count": null,
   "metadata": {
    "id": "0q33geml2CXZ"
   },
   "outputs": [],
   "source": []
  },
  {
   "cell_type": "markdown",
   "metadata": {
    "id": "av7l0LLT2DHn"
   },
   "source": [
    "### **Problem**\n",
    "## Write a Python program that takes a 2D list (matrix) and computes the sum of elements in each row. Store the results in a new list."
   ]
  },
  {
   "cell_type": "code",
   "execution_count": 6,
   "metadata": {
    "colab": {
     "base_uri": "https://localhost:8080/"
    },
    "id": "2Y-EjJPk3r4Q",
    "outputId": "83ebfdba-3c8c-4fcf-dcc8-53ad5128df67"
   },
   "outputs": [
    {
     "name": "stdout",
     "output_type": "stream",
     "text": [
      "Row sums: [6, 15, 24]\n"
     ]
    }
   ],
   "source": [
    "matrix = [\n",
    "    [1, 2, 3],\n",
    "    [4, 5, 6],\n",
    "    [7, 8, 9]\n",
    "]\n",
    "\n",
    "row_sums = []\n",
    "\n",
    "for row in matrix:\n",
    "    total = 0\n",
    "    for num in row:\n",
    "        total += num\n",
    "    row_sums.append(total)\n",
    "\n",
    "print(\"Row sums:\", row_sums)"
   ]
  },
  {
   "cell_type": "markdown",
   "metadata": {},
   "source": [
    "## Matrix Transpose\n",
    "\n",
    "\n",
    "$$\n",
    "A=\\begin{bmatrix}1&2&3\\\\4&5&6\\end{bmatrix}\n",
    "$$\n",
    "\n",
    "\n",
    "$$\n",
    "A^{T}=\\begin{bmatrix}\n",
    "1 & 4\\\\\n",
    "2 & 5\\\\\n",
    "3 & 6\n",
    "\\end{bmatrix}\n",
    "$$\n"
   ]
  },
  {
   "cell_type": "code",
   "execution_count": null,
   "metadata": {},
   "outputs": [],
   "source": [
    "A = [[1, 2, 3],\n",
    "     [4, 5, 6]]\n",
    "\n",
    "rows = len(A)\n",
    "cols = len(A[0])\n",
    "\n",
    "AT = []\n",
    "for j in range(cols):\n",
    "    row = []\n",
    "    for i in range(rows):\n",
    "        row.append(A[i][j])\n",
    "    AT.append(row)\n",
    "\n",
    "print(\"Transpose A^T =\")\n",
    "for r in AT:\n",
    "    print(r)\n"
   ]
  },
  {
   "cell_type": "markdown",
   "metadata": {},
   "source": [
    "## **Trace of a matrix**"
   ]
  },
  {
   "cell_type": "code",
   "execution_count": null,
   "metadata": {},
   "outputs": [],
   "source": [
    "A = [\n",
    "    [2, 3, 1],\n",
    "    [0, 4, 5],\n",
    "    [7, 0, 6]\n",
    "]\n",
    "\n",
    "# basic square check\n",
    "rows = len(A)\n",
    "cols = len(A[0])\n",
    "\n",
    "tr = 0\n",
    "for i in range(rows):\n",
    "    tr += A[i][i]\n",
    "\n",
    "print(\"Trace(A) =\", tr) "
   ]
  },
  {
   "cell_type": "markdown",
   "metadata": {
    "id": "WydzzJ_l4_az"
   },
   "source": [
    "\n",
    "\n",
    "# **Matrix Multiplication**\n",
    "\n",
    "\n",
    "$$\n",
    "C_{ij} = \\sum_{k=1}^{n} A_{ik} \\, B_{kj}\n",
    "$$\n",
    "\n"
   ]
  },
  {
   "cell_type": "code",
   "execution_count": 20,
   "metadata": {
    "colab": {
     "base_uri": "https://localhost:8080/"
    },
    "id": "XDKKVKq86gQT",
    "outputId": "553d130c-f95f-47fb-eb56-1e646416a57c"
   },
   "outputs": [
    {
     "name": "stdout",
     "output_type": "stream",
     "text": [
      "Initial Result Matrix: [[0, 0], [0, 0]]\n",
      " \n",
      "Result of A x B =\n",
      "[58, 64]\n",
      "[139, 154]\n"
     ]
    }
   ],
   "source": [
    "# Define two matrices\n",
    "A = [[1, 2, 3],\n",
    "     [4, 5, 6]]\n",
    "\n",
    "B = [[7, 8],\n",
    "     [9, 10],\n",
    "     [11, 12]]\n",
    "\n",
    "rows_A = len(A)\n",
    "cols_A = len(A[0])\n",
    "rows_B = len(B)\n",
    "cols_B = len(B[0])\n",
    "\n",
    "# Initialize resultant matrix with zeros\n",
    "result = []\n",
    "for i in range(rows_A):\n",
    "    row = []\n",
    "    for j in range(cols_B):\n",
    "        row.append(0)\n",
    "    result.append(row)\n",
    "\n",
    "print(\"Initial Result Matrix:\", result)\n",
    "\n",
    "\n",
    "# Multiplication step\n",
    "for i in range(rows_A):          # loop over rows of A\n",
    "    for j in range(cols_B):      # loop over columns of B\n",
    "        for k in range(rows_B):  # loop over elements in row of B /column of A\n",
    "            result[i][j] = result[i][j] +  (A[i][k] * B[k][j])\n",
    "\n",
    "\n",
    "# Print result\n",
    "print(\" \")\n",
    "print(\"Result of A x B =\")\n",
    "for row in result:\n",
    "    print(row)"
   ]
  },
  {
   "cell_type": "markdown",
   "metadata": {
    "id": "vQoxxPu3EeVy"
   },
   "source": [
    "## **Matrix Addition**"
   ]
  },
  {
   "cell_type": "code",
   "execution_count": 17,
   "metadata": {
    "colab": {
     "base_uri": "https://localhost:8080/"
    },
    "id": "0mdfqGEkEk2U",
    "outputId": "46fe63fd-ceeb-495c-8385-a7ac20f66898"
   },
   "outputs": [
    {
     "name": "stdout",
     "output_type": "stream",
     "text": [
      "Result of A + B =\n",
      "[8, 10, 12]\n",
      "[14, 16, 18]\n"
     ]
    }
   ],
   "source": [
    "# Example usage\n",
    "A = [[1, 2, 3],\n",
    "     [4, 5, 6]]\n",
    "\n",
    "B = [[7, 8, 9],\n",
    "     [10, 11, 12]]\n",
    "\n",
    "\n",
    "rows_A = len(A)\n",
    "cols_A = len(A[0])\n",
    "rows_B = len(B)\n",
    "cols_B = len(B[0])\n",
    "\n",
    "\n",
    "# Initialize result matrix\n",
    "result = []\n",
    "for i in range(rows_A):\n",
    "    row = []\n",
    "    for j in range(cols_A):\n",
    "        row.append(A[i][j] + B[i][j])\n",
    "    result.append(row)\n",
    "\n",
    "print(\"Result of A + B =\")\n",
    "for row in result:\n",
    "    print(row)\n"
   ]
  },
  {
   "cell_type": "code",
   "execution_count": null,
   "metadata": {},
   "outputs": [],
   "source": []
  },
  {
   "cell_type": "code",
   "execution_count": null,
   "metadata": {},
   "outputs": [],
   "source": []
  },
  {
   "cell_type": "markdown",
   "metadata": {},
   "source": [
    "## **Using ``Numpy``**"
   ]
  },
  {
   "cell_type": "code",
   "execution_count": 22,
   "metadata": {},
   "outputs": [
    {
     "name": "stdout",
     "output_type": "stream",
     "text": [
      "[[ 58  64]\n",
      " [139 154]]\n"
     ]
    }
   ],
   "source": [
    "import numpy as np\n",
    "\n",
    "#define matrix using numpy\n",
    "A = np.array([[1, 2, 3],\n",
    "     [4, 5, 6]])\n",
    "\n",
    "B = np.array([[7, 8],\n",
    "     [9, 10],\n",
    "     [11, 12]])\n",
    "\n",
    "#matrix multiplication\n",
    "C= np.dot(A,B)\n",
    "print(C)  #check with the result obtained from the code using for loop."
   ]
  },
  {
   "cell_type": "code",
   "execution_count": null,
   "metadata": {},
   "outputs": [],
   "source": []
  }
 ],
 "metadata": {
  "colab": {
   "provenance": []
  },
  "kernelspec": {
   "display_name": "Python 3 (ipykernel)",
   "language": "python",
   "name": "python3"
  },
  "language_info": {
   "codemirror_mode": {
    "name": "ipython",
    "version": 3
   },
   "file_extension": ".py",
   "mimetype": "text/x-python",
   "name": "python",
   "nbconvert_exporter": "python",
   "pygments_lexer": "ipython3",
   "version": "3.11.7"
  }
 },
 "nbformat": 4,
 "nbformat_minor": 4
}
